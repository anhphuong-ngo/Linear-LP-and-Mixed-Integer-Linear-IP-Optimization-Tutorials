{
 "cells": [
  {
   "cell_type": "markdown",
   "id": "93d6e38c-6b12-4a5e-b8d5-b9615a71b83c",
   "metadata": {},
   "source": [
    "**Chapter 2: Integer Programming**\n",
    "\n",
    "***Developed by Anh Phuong Ngo***"
   ]
  },
  {
   "cell_type": "markdown",
   "id": "a7001d00-6c08-4c8a-8db7-1bd19873177a",
   "metadata": {},
   "source": [
    "# Question 1\n",
    "\n",
    "## Problem description\n",
    "\n",
    "NCAT is considering 4 projects. Project 1 is anticipated to have a net present value (NPV) of 16 million dollars; project 2, an NPV of 22 million dollars; project 3, an NPV of 12 million dollars; and project 4, an NPV of 8 million dollars.\n",
    "Each project requires an investment: project 1, 5 million dollar; project 2, 7 million dollars; project 3, 4 million dollars; and project 4, 3 million dollars.\n",
    "Currently, 14 million dollars is available in total for the investment.\n",
    "NCAT can invest 2 projects at most. Formulate an IP, which maximize the NPV for NCAT."
   ]
  },
  {
   "cell_type": "markdown",
   "id": "6a33f5d2-cd7b-4995-aabe-883a41ee0d8d",
   "metadata": {},
   "source": [
    "## Mathematical modelling\n",
    "\n",
    "### Decision variable:\n",
    "$$\n",
    "x_i = \\begin{cases}\n",
    "    1 & \\text{if the project i is selected} \\\\\n",
    "    0 & \\text{otherwise.}\n",
    "\\end{cases},\n",
    "~~ i={1,2,3,4}\n",
    "$$ \n",
    "\n",
    "### Parameters:\n",
    "$c_i$: cost of project $i$\n",
    "\n",
    "$p_i$: profit of project $i$\n",
    "\n",
    "### Formulation:\n",
    "\n",
    "$\\max z = \\sum_{i=1}^4 p_i x_i$\n",
    "\n",
    "Subject to:\n",
    "\n",
    "$\\sum_{i=1}^4 c_i x_i \\leq ~ \\text{Total investment} $\n",
    "\n",
    "Additional constraints\n",
    "\n",
    "### Substitution:\n",
    "\n",
    "$\\max 16x_1 + 22x_2 + 12x_3 + 8x_4$\n",
    "\n",
    "Subject to:\n",
    "\n",
    "$5x_1 + 7x_2 + 4x_3 + 3x_4 \\leq 14$\n",
    "\n",
    "$\\sum_{i=1}^4 \\leq 2$"
   ]
  },
  {
   "cell_type": "markdown",
   "id": "7e38ef52-e216-4534-8256-e6ff3ef72297",
   "metadata": {},
   "source": [
    "## Computational modelling"
   ]
  },
  {
   "cell_type": "code",
   "execution_count": 9,
   "id": "c2ee745b-e361-440e-b7ce-a6edc0ff19be",
   "metadata": {},
   "outputs": [
    {
     "name": "stdout",
     "output_type": "stream",
     "text": [
      "['CPLEX', 'ECOS', 'ECOS_BB', 'GUROBI', 'MOSEK', 'OSQP', 'SCIPY', 'SCS', 'XPRESS']\n"
     ]
    }
   ],
   "source": [
    "# Check installed solvers\n",
    "import cvxpy as cvx\n",
    "print(cvx.installed_solvers())"
   ]
  },
  {
   "cell_type": "code",
   "execution_count": 10,
   "id": "fb1de9d2-832a-4aad-ac33-a96673d97c21",
   "metadata": {},
   "outputs": [],
   "source": [
    "# Import packages\n",
    "import cvxpy as cvx\n",
    "import pandas as pan\n",
    "import math\n",
    "import numpy as np"
   ]
  },
  {
   "cell_type": "code",
   "execution_count": 19,
   "id": "41a87974-3585-42bb-9a16-c14fe4e2b5e6",
   "metadata": {},
   "outputs": [
    {
     "name": "stdout",
     "output_type": "stream",
     "text": [
      "===============================================================================\n",
      "                                     CVXPY                                     \n",
      "                                     v1.2.1                                    \n",
      "===============================================================================\n",
      "(CVXPY) May 08 11:03:57 PM: Your problem has 4 variables, 2 constraints, and 0 parameters.\n",
      "(CVXPY) May 08 11:03:57 PM: It is compliant with the following grammars: DCP, DQCP\n",
      "(CVXPY) May 08 11:03:57 PM: (If you need to solve this problem multiple times, but with different data, consider using parameters.)\n",
      "(CVXPY) May 08 11:03:57 PM: CVXPY will first compile your problem; then, it will invoke a numerical solver to obtain a solution.\n",
      "-------------------------------------------------------------------------------\n",
      "                                  Compilation                                  \n",
      "-------------------------------------------------------------------------------\n",
      "(CVXPY) May 08 11:03:57 PM: Compiling problem (target solver=ECOS_BB).\n",
      "(CVXPY) May 08 11:03:57 PM: Reduction chain: FlipObjective -> Dcp2Cone -> CvxAttr2Constr -> ConeMatrixStuffing -> ECOS_BB\n",
      "(CVXPY) May 08 11:03:57 PM: Applying reduction FlipObjective\n",
      "(CVXPY) May 08 11:03:57 PM: Applying reduction Dcp2Cone\n",
      "(CVXPY) May 08 11:03:57 PM: Applying reduction CvxAttr2Constr\n",
      "(CVXPY) May 08 11:03:57 PM: Applying reduction ConeMatrixStuffing\n",
      "(CVXPY) May 08 11:03:57 PM: Applying reduction ECOS_BB\n",
      "(CVXPY) May 08 11:03:57 PM: Finished problem compilation (took 9.169e-03 seconds).\n",
      "-------------------------------------------------------------------------------\n",
      "                                Numerical solver                               \n",
      "-------------------------------------------------------------------------------\n",
      "(CVXPY) May 08 11:03:57 PM: Invoking solver ECOS_BB  to obtain a solution.\n",
      "-------------------------------------------------------------------------------\n",
      "                                    Summary                                    \n",
      "-------------------------------------------------------------------------------\n",
      "(CVXPY) May 08 11:03:57 PM: Problem status: optimal\n",
      "(CVXPY) May 08 11:03:57 PM: Optimal value: 3.800e+01\n",
      "(CVXPY) May 08 11:03:57 PM: Compilation took 9.169e-03 seconds\n",
      "(CVXPY) May 08 11:03:57 PM: Solver (including time spent in interface) took 1.001e-03 seconds\n"
     ]
    },
    {
     "data": {
      "text/plain": [
       "38.0000000004307"
      ]
     },
     "execution_count": 19,
     "metadata": {},
     "output_type": "execute_result"
    }
   ],
   "source": [
    "# Python indexing starts from 0\n",
    "# Constraints:\n",
    "constr = []\n",
    "\n",
    "# Variables:\n",
    "x1 = cvx.Variable(boolean=True)\n",
    "x2 = cvx.Variable(boolean=True)\n",
    "x3 = cvx.Variable(boolean=True)\n",
    "x4 = cvx.Variable(boolean=True)\n",
    "\n",
    "# Total investment constraint:\n",
    "constr += [5*x1 + 7*x2 + 4*x3 + 3*x4 <= 14]\n",
    "\n",
    "# Can choose 2 projects at most:\n",
    "constr += [x1 + x2 + x3 + x4 <= 2]\n",
    "\n",
    "# Objective function:\n",
    "objf = 16*x1 + 22*x2 + 12*x3 + 8*x4\n",
    "\n",
    "# Call the solver:\n",
    "prob = cvx.Problem(cvx.Maximize(objf), constr)\n",
    "prob.solve(solver = 'ECOS_BB', verbose=True, warm_start=True)"
   ]
  },
  {
   "cell_type": "markdown",
   "id": "3b93e60c-7776-4023-99aa-ad96a5b45480",
   "metadata": {},
   "source": [
    "## Result"
   ]
  },
  {
   "cell_type": "code",
   "execution_count": 20,
   "id": "85950c13-e243-4ef5-8c99-7988c7fd75e2",
   "metadata": {},
   "outputs": [
    {
     "name": "stdout",
     "output_type": "stream",
     "text": [
      "Project 1 : 0.9999999997114247\n",
      "Project 2 : 1.0000000000850255\n",
      "Project 3 : 3.461665680394948e-10\n",
      "Project 4 : -1.2208135946753703e-10\n"
     ]
    }
   ],
   "source": [
    "print('Project 1 :',x1.value)\n",
    "print('Project 2 :',x2.value)\n",
    "print('Project 3 :',x3.value)\n",
    "print('Project 4 :',x4.value)"
   ]
  },
  {
   "cell_type": "code",
   "execution_count": null,
   "id": "42de84e9-e382-4f2c-9190-9d6d277b3390",
   "metadata": {},
   "outputs": [],
   "source": []
  }
 ],
 "metadata": {
  "kernelspec": {
   "display_name": "Python 3 (ipykernel)",
   "language": "python",
   "name": "python3"
  },
  "language_info": {
   "codemirror_mode": {
    "name": "ipython",
    "version": 3
   },
   "file_extension": ".py",
   "mimetype": "text/x-python",
   "name": "python",
   "nbconvert_exporter": "python",
   "pygments_lexer": "ipython3",
   "version": "3.9.12"
  }
 },
 "nbformat": 4,
 "nbformat_minor": 5
}
