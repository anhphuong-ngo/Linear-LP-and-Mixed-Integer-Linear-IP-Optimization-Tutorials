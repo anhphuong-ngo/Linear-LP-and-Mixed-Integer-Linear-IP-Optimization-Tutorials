{
 "cells": [
  {
   "cell_type": "markdown",
   "metadata": {},
   "source": [
    "# Install CVXPY\n",
    "\n",
    "For detail about CVXPY: https://www.cvxpy.org/"
   ]
  },
  {
   "cell_type": "code",
   "execution_count": null,
   "metadata": {
    "colab": {
     "base_uri": "https://localhost:8080/",
     "height": 683
    },
    "id": "DL2YG-I4PEKu",
    "outputId": "4bc589b8-7acc-4987-a764-ad7a12b60660"
   },
   "outputs": [
    {
     "name": "stdout",
     "output_type": "stream",
     "text": [
      "Collecting cvxpy\n",
      "\u001b[?25l  Downloading https://files.pythonhosted.org/packages/76/3c/4314c56be5b069f4d542046912d503a07c96b42c0b075ef0e32b48f8579f/cvxpy-1.0.10.tar.gz (900kB)\n",
      "\u001b[K    100% |████████████████████████████████| 901kB 6.1MB/s \n",
      "\u001b[?25hCollecting osqp (from cvxpy)\n",
      "\u001b[?25l  Downloading https://files.pythonhosted.org/packages/43/f2/bbeb83c0da6fd89a6d835b98d85ec76c04f39a476c065e3c99b6b709c493/osqp-0.4.1-cp36-cp36m-manylinux1_x86_64.whl (146kB)\n",
      "\u001b[K    100% |████████████████████████████████| 153kB 6.4MB/s \n",
      "\u001b[?25hCollecting ecos>=2 (from cvxpy)\n",
      "\u001b[?25l  Downloading https://files.pythonhosted.org/packages/55/ed/d131ff51f3a8f73420eb1191345eb49f269f23cadef515172e356018cde3/ecos-2.0.7.post1-cp36-cp36m-manylinux1_x86_64.whl (147kB)\n",
      "\u001b[K    100% |████████████████████████████████| 153kB 7.3MB/s \n",
      "\u001b[?25hCollecting scs>=1.1.3 (from cvxpy)\n",
      "\u001b[?25l  Downloading https://files.pythonhosted.org/packages/b3/fd/6e01c4f4a69fcc6c3db130ba55572089e78e77ea8c0921a679f9da1ec04c/scs-2.0.2.tar.gz (133kB)\n",
      "\u001b[K    100% |████████████████████████████████| 143kB 8.3MB/s \n",
      "\u001b[?25hCollecting multiprocess (from cvxpy)\n",
      "\u001b[?25l  Downloading https://files.pythonhosted.org/packages/7a/ee/b9bf3e171f936743758ef924622d8dd00516c5532b00a1210a09bce68325/multiprocess-0.70.6.1.tar.gz (1.4MB)\n",
      "\u001b[K    100% |████████████████████████████████| 1.4MB 8.4MB/s \n",
      "\u001b[?25hCollecting fastcache (from cvxpy)\n",
      "  Downloading https://files.pythonhosted.org/packages/fb/98/93f2d36738868e8dd5a8dbfc918169b24658f63e5fa041fe000c22ae4f8b/fastcache-1.0.2.tar.gz\n",
      "Requirement already satisfied: six in /usr/local/lib/python3.6/dist-packages (from cvxpy) (1.11.0)\n",
      "Requirement already satisfied: toolz in /usr/local/lib/python3.6/dist-packages (from cvxpy) (0.9.0)\n",
      "Requirement already satisfied: numpy>=1.14 in /usr/local/lib/python3.6/dist-packages (from cvxpy) (1.14.6)\n",
      "Requirement already satisfied: scipy>=0.19 in /usr/local/lib/python3.6/dist-packages (from cvxpy) (1.1.0)\n",
      "Requirement already satisfied: future in /usr/local/lib/python3.6/dist-packages (from osqp->cvxpy) (0.16.0)\n",
      "Requirement already satisfied: dill>=0.2.8.1 in /usr/local/lib/python3.6/dist-packages (from multiprocess->cvxpy) (0.2.8.2)\n",
      "Building wheels for collected packages: cvxpy, scs, multiprocess, fastcache\n",
      "  Running setup.py bdist_wheel for cvxpy ... \u001b[?25ldone\n",
      "\u001b[?25h  Stored in directory: /root/.cache/pip/wheels/8b/af/aa/46570716431521ee92085f317c33b2f427e27f08fe4a8a738a\n",
      "  Running setup.py bdist_wheel for scs ... \u001b[?25ldone\n",
      "\u001b[?25h  Stored in directory: /root/.cache/pip/wheels/ff/f0/aa/530ccd478d7d9900b4e9ef5bc5a39e895ce110bed3d3ac653e\n",
      "  Running setup.py bdist_wheel for multiprocess ... \u001b[?25ldone\n",
      "\u001b[?25h  Stored in directory: /root/.cache/pip/wheels/8b/36/e5/96614ab62baf927e9bc06889ea794a8e87552b84bb6bf65e3e\n",
      "  Running setup.py bdist_wheel for fastcache ... \u001b[?25ldone\n",
      "\u001b[?25h  Stored in directory: /root/.cache/pip/wheels/b7/90/c0/da92ac52d188d9ebca577044e89a14d0e6ff333c1bcd1ebc14\n",
      "Successfully built cvxpy scs multiprocess fastcache\n",
      "Installing collected packages: osqp, ecos, scs, multiprocess, fastcache, cvxpy\n",
      "Successfully installed cvxpy-1.0.10 ecos-2.0.7.post1 fastcache-1.0.2 multiprocess-0.70.6.1 osqp-0.4.1 scs-2.0.2\n"
     ]
    }
   ],
   "source": [
    "!pip install cvxpy"
   ]
  },
  {
   "cell_type": "markdown",
   "metadata": {},
   "source": [
    "# Install solvers"
   ]
  },
  {
   "cell_type": "code",
   "execution_count": null,
   "metadata": {
    "colab": {
     "base_uri": "https://localhost:8080/",
     "height": 34
    },
    "id": "0jZrW8-36iNd",
    "outputId": "631edc12-afd7-492c-83bc-c39b61b2565c"
   },
   "outputs": [
    {
     "data": {
      "text/plain": [
       "['ECOS', 'ECOS_BB', 'SCS', 'OSQP']"
      ]
     },
     "execution_count": 3,
     "metadata": {
      "tags": []
     },
     "output_type": "execute_result"
    }
   ],
   "source": [
    "# Check current available solvers\n",
    "\n",
    "import cvxpy as cvx\n",
    "cvx.installed_solvers()"
   ]
  },
  {
   "cell_type": "code",
   "execution_count": null,
   "metadata": {
    "colab": {
     "base_uri": "https://localhost:8080/",
     "height": 94
    },
    "id": "3R4ryH0DQD24",
    "outputId": "40c1006f-1401-4f1b-f8d3-8835b60ec2e0"
   },
   "outputs": [
    {
     "name": "stdout",
     "output_type": "stream",
     "text": [
      "(array([1.]), array([2.]))\n"
     ]
    }
   ],
   "source": [
    "# Test a model\n",
    "\n",
    "import cvxpy as cvx\n",
    "\n",
    "## Declare variables\n",
    "x = cvx.Variable(1, nonneg=True)\n",
    "y = cvx.Variable(1, nonneg=True)\n",
    "\n",
    "## Constraints:\n",
    "constr = [\n",
    "         8*x + 12*x2 >=25,\n",
    "        12*x + 12*x2 >=40,\n",
    "         2*x +    x2 >= 4,\n",
    "           x +    x2 <= 8,\n",
    "           x>=0,  x2 >= 0]\n",
    "\n",
    "## Objective functions:\n",
    "objf = 35*x + 25*y\n",
    "\n",
    "## Call solver and solve\n",
    "prob = cvx.Problem(cvx.Minimize(objf), constr)\n",
    "sol = prob.solve(solver = 'SCIPY', verbose=True, warm_start=True)\n",
    "print(x.value, y.value)"
   ]
  },
  {
   "cell_type": "markdown",
   "metadata": {
    "tags": []
   },
   "source": [
    "## Install CVXOPT solver"
   ]
  },
  {
   "cell_type": "code",
   "execution_count": null,
   "metadata": {
    "colab": {
     "base_uri": "https://localhost:8080/",
     "height": 287
    },
    "id": "_MMqGH2GQs_T",
    "outputId": "40f0dafb-6817-40bd-d860-ebaaf584a63d"
   },
   "outputs": [
    {
     "name": "stdout",
     "output_type": "stream",
     "text": [
      "Collecting cvxopt\n",
      "\u001b[?25l  Downloading https://files.pythonhosted.org/packages/9c/b4/44a825b16ae366f163cd55c0ad6c51391de52cb5b8da3dcbeee242bd4c01/cvxopt-1.2.2-cp36-cp36m-manylinux1_x86_64.whl (11.6MB)\n",
      "\u001b[K    100% |████████████████████████████████| 11.6MB 2.7MB/s \n",
      "\u001b[?25hInstalling collected packages: cvxopt\n",
      "Successfully installed cvxopt-1.2.2\n"
     ]
    }
   ],
   "source": [
    "!pip install cvxopt"
   ]
  },
  {
   "cell_type": "markdown",
   "metadata": {},
   "source": [
    "## Install CBC\n",
    "\n",
    "CBC solver can handle mixed-integer problems"
   ]
  },
  {
   "cell_type": "code",
   "execution_count": null,
   "metadata": {},
   "outputs": [],
   "source": [
    "!pip install cbcpy"
   ]
  },
  {
   "cell_type": "markdown",
   "metadata": {},
   "source": [
    "## Install GLPK"
   ]
  },
  {
   "cell_type": "code",
   "execution_count": null,
   "metadata": {},
   "outputs": [],
   "source": [
    "!apt install glpk-utils\n",
    "!pip install glpk\n",
    "!apt-get install -y -qq glpk-utils"
   ]
  },
  {
   "cell_type": "markdown",
   "metadata": {},
   "source": [
    "## Install COIN-OR CBC\n",
    "\n",
    "[COIN-OR CBC](https://github.com/coin-or/Cbc) is a multi-threaded open-source **C**oin-or **b**ranch and **c**ut mixed-integer linear programming solver written in C++ under the Eclipse Public License (EPL). CBC is generally a good choice for a general purpose MILP solver for medium to large scale problems."
   ]
  },
  {
   "cell_type": "code",
   "execution_count": null,
   "metadata": {},
   "outputs": [],
   "source": [
    "!apt-get install -y -qq coinor-cbc"
   ]
  }
 ],
 "metadata": {
  "colab": {
   "provenance": []
  },
  "kernelspec": {
   "display_name": "Python 3 (ipykernel)",
   "language": "python",
   "name": "python3"
  },
  "language_info": {
   "codemirror_mode": {
    "name": "ipython",
    "version": 3
   },
   "file_extension": ".py",
   "mimetype": "text/x-python",
   "name": "python",
   "nbconvert_exporter": "python",
   "pygments_lexer": "ipython3",
   "version": "3.9.12"
  }
 },
 "nbformat": 4,
 "nbformat_minor": 4
}
