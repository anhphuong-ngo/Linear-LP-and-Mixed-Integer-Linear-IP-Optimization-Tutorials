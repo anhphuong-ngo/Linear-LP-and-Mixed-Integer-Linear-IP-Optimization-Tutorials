{
 "cells": [
  {
   "cell_type": "markdown",
   "id": "869b7bb9-793e-4b1b-aafa-7510822cc0cd",
   "metadata": {},
   "source": [
    "**Chapter 1: Linear Programming**\n",
    "\n",
    "***Developed by Anh Phuong Ngo***"
   ]
  },
  {
   "cell_type": "markdown",
   "id": "77f158bd-6d4d-49ee-a96a-a856500b07d6",
   "metadata": {},
   "source": [
    "# Question 1\n",
    "\n",
    "## Problem description\n",
    "A fabric company produces 4 sizes of product: small, medium, large and extra large. These product sizes can be produced on any one of three laser machine types: A, B, and C. The productivity per hour per meter of each machine type for each product type is shown as follow:\n",
    "\n",
    "<table>\n",
    "<thead>\n",
    "  <tr>\n",
    "    <th></th>\n",
    "    <th>A</th>\n",
    "    <th>B</th>\n",
    "    <th>C</th>\n",
    "  </tr>\n",
    "</thead>\n",
    "<tbody>\n",
    "  <tr>\n",
    "    <td>Small</td>\n",
    "    <td>450</td>\n",
    "    <td>750</td>\n",
    "    <td>950</td>\n",
    "  </tr>\n",
    "  <tr>\n",
    "    <td>Medium</td>\n",
    "    <td>350</td>\n",
    "    <td>500</td>\n",
    "    <td>800</td>\n",
    "  </tr>\n",
    "  <tr>\n",
    "    <td>Large</td>\n",
    "    <td>300</td>\n",
    "    <td>450</td>\n",
    "    <td>700</td>\n",
    "  </tr>\n",
    "  <tr>\n",
    "    <td>Extra Large</td>\n",
    "    <td>225</td>\n",
    "    <td>300</td>\n",
    "    <td>425</td>\n",
    "  </tr>\n",
    "</tbody>\n",
    "</table>\n",
    "\n",
    "Each machine is set up to work up to 50 hours per week and the hourly operating cost of these machines are respectively 40.00 USD, 60.00 USD, and 90.00 USD. Further suppose that 13000, 8000, 8000, and 9000 meters are the weekly production requirement for the product sizes: small, medium, large and extra large, respectively. Formulate the machine scheduling problem as a linear program and code it on Python/Julia."
   ]
  },
  {
   "cell_type": "markdown",
   "id": "dd30d956-5b4a-47ea-b879-73435f14e425",
   "metadata": {
    "tags": []
   },
   "source": [
    "## Mathematical modelling\n",
    "\n",
    "### Decision variable:\n",
    "$x_{ij}$: amount of working hour at machine $j$ for product size $i$, for $i=1, \\dots ,4$ and $j=1,2,3$\n",
    "\n",
    "### Parameters:\n",
    "$p_{ij}$: productivity of machine $j$ for product size $i$ (feet/hour)\n",
    "\n",
    "$c_j$: operating cost of machine $j$ ($/hour)\n",
    "\n",
    "$d_i$: demand of product size $i$ (feet)\n",
    "\n",
    "### Formulation:\n",
    "$\\min z = \\sum_{j=1}^3 \\sum_{i=1}^4 c_jx_{ij}$\n",
    "\n",
    "Subject to:\n",
    "\n",
    "$\\sum_{i=1}^4 x_{ij} \\leq 50, ~~ \\forall j=1,2,3$ (Maximum operating time of machine $j$)\n",
    "\n",
    "$\\sum_{j=1}^3 a_{ij} x_{ij} = d_i, ~~ \\forall i = 1, \\dots, 4$ (Demand of beam size $i$)\n",
    "\n",
    "$x_{ij} \\geq 0, ~~\\forall i=1,2,3 ~\\text{and}~ j=1,\\dots,4$ (Sign restriction)"
   ]
  },
  {
   "cell_type": "markdown",
   "id": "a582675d-2c87-497a-af8f-f9436faf12be",
   "metadata": {},
   "source": [
    "## Computational modelling"
   ]
  },
  {
   "cell_type": "code",
   "execution_count": 1,
   "id": "c5b3a381-2082-4845-b919-4e96de111984",
   "metadata": {},
   "outputs": [
    {
     "name": "stdout",
     "output_type": "stream",
     "text": [
      "['CPLEX', 'ECOS', 'ECOS_BB', 'GUROBI', 'MOSEK', 'OSQP', 'SCIPY', 'SCS', 'XPRESS']\n"
     ]
    }
   ],
   "source": [
    "# Check installed solvers\n",
    "import cvxpy as cvx\n",
    "print(cvx.installed_solvers())"
   ]
  },
  {
   "cell_type": "code",
   "execution_count": 2,
   "id": "02e206d4-3bcc-41ba-833a-eb13bf7fd8e3",
   "metadata": {},
   "outputs": [],
   "source": [
    "# Import packages\n",
    "import cvxpy as cvx\n",
    "import pandas as pan\n",
    "import math\n",
    "import numpy as np"
   ]
  },
  {
   "cell_type": "code",
   "execution_count": 3,
   "id": "9928e918-9030-465d-bf3b-2d89043fad9e",
   "metadata": {},
   "outputs": [],
   "source": [
    "# Productivity data:\n",
    "p = np.array([[450, 750, 950],\n",
    "              [350, 400, 800],\n",
    "              [300, 350, 700],\n",
    "              [225, 300, 425]])\n",
    "# Cost data:\n",
    "c = np.array([40, 60, 90])\n",
    "\n",
    "# Demand data:\n",
    "d = np.array([13000, 8000, 8000, 9000])"
   ]
  },
  {
   "cell_type": "code",
   "execution_count": 4,
   "id": "86ac64b3-d4d2-4168-9680-b4be990da550",
   "metadata": {},
   "outputs": [
    {
     "name": "stdout",
     "output_type": "stream",
     "text": [
      "===============================================================================\n",
      "                                     CVXPY                                     \n",
      "                                     v1.2.1                                    \n",
      "===============================================================================\n",
      "(CVXPY) May 08 11:05:35 PM: Your problem has 12 variables, 7 constraints, and 0 parameters.\n",
      "(CVXPY) May 08 11:05:35 PM: It is compliant with the following grammars: DCP, DQCP\n",
      "(CVXPY) May 08 11:05:35 PM: (If you need to solve this problem multiple times, but with different data, consider using parameters.)\n",
      "(CVXPY) May 08 11:05:35 PM: CVXPY will first compile your problem; then, it will invoke a numerical solver to obtain a solution.\n",
      "-------------------------------------------------------------------------------\n",
      "                                  Compilation                                  \n",
      "-------------------------------------------------------------------------------\n",
      "(CVXPY) May 08 11:05:35 PM: Compiling problem (target solver=ECOS_BB).\n",
      "(CVXPY) May 08 11:05:35 PM: Reduction chain: Dcp2Cone -> CvxAttr2Constr -> ConeMatrixStuffing -> ECOS_BB\n",
      "(CVXPY) May 08 11:05:35 PM: Applying reduction Dcp2Cone\n",
      "(CVXPY) May 08 11:05:35 PM: Applying reduction CvxAttr2Constr\n",
      "(CVXPY) May 08 11:05:35 PM: Applying reduction ConeMatrixStuffing\n",
      "(CVXPY) May 08 11:05:35 PM: Applying reduction ECOS_BB\n",
      "(CVXPY) May 08 11:05:35 PM: Finished problem compilation (took 2.016e-02 seconds).\n",
      "-------------------------------------------------------------------------------\n",
      "                                Numerical solver                               \n",
      "-------------------------------------------------------------------------------\n",
      "(CVXPY) May 08 11:05:35 PM: Invoking solver ECOS_BB  to obtain a solution.\n",
      "-------------------------------------------------------------------------------\n",
      "                                    Summary                                    \n",
      "-------------------------------------------------------------------------------\n",
      "(CVXPY) May 08 11:05:35 PM: Problem status: optimal\n",
      "(CVXPY) May 08 11:05:35 PM: Optimal value: 4.569e+03\n",
      "(CVXPY) May 08 11:05:35 PM: Compilation took 2.016e-02 seconds\n",
      "(CVXPY) May 08 11:05:35 PM: Solver (including time spent in interface) took 0.000e+00 seconds\n"
     ]
    },
    {
     "data": {
      "text/plain": [
       "4568.571429215183"
      ]
     },
     "execution_count": 4,
     "metadata": {},
     "output_type": "execute_result"
    }
   ],
   "source": [
    "# Python indexing starts from 0\n",
    "# Set declaration:\n",
    "N = 4 # Number of product sizes\n",
    "M = 3 # Number of machines\n",
    "\n",
    "# Constraints:\n",
    "constr = []\n",
    "\n",
    "# Variables:\n",
    "x = cvx.Variable((N, M), nonneg=True)\n",
    "\n",
    "# Constraints:\n",
    "## Maximum operating time of machine j\n",
    "for j in range(M):\n",
    "    constr += [sum(x[i,j] for i in range(N)) <= 50]\n",
    "\n",
    "## Demand satisfaction\n",
    "for i in range(N):\n",
    "    constr += [sum(p[i][j]*x[i,j] for j in range(M)) == d[i]]\n",
    "    \n",
    "# Objective function:\n",
    "objf = sum(sum(c[j]*x[i,j] for i in range(N)) for j in range(M))\n",
    "\n",
    "# Call the solver:\n",
    "prob = cvx.Problem(cvx.Minimize(objf), constr)\n",
    "prob.solve(solver = 'ECOS_BB', verbose=True, warm_start=True)"
   ]
  },
  {
   "cell_type": "markdown",
   "id": "ba4ddc75-2366-480a-832c-bf94ee7a10a8",
   "metadata": {},
   "source": [
    "## Results"
   ]
  },
  {
   "cell_type": "code",
   "execution_count": 5,
   "id": "73d38e5a-cbb5-46f0-9444-8a922c7f3dee",
   "metadata": {},
   "outputs": [
    {
     "name": "stdout",
     "output_type": "stream",
     "text": [
      "Product size  1  produced in machine  1  : 2.063718818640068e-08\n",
      "Product size  1  produced in machine  2  : 17.33333331244499\n",
      "Product size  1  produced in machine  3  : 6.715289207511159e-09\n",
      "Product size  2  produced in machine  1  : 7.854029435901991e-08\n",
      "Product size  2  produced in machine  2  : 6.078157720282934e-09\n",
      "Product size  2  produced in machine  3  : 9.999999962599542\n",
      "Product size  3  produced in machine  1  : 3.61289704996184e-08\n",
      "Product size  3  produced in machine  2  : 6.194677835249405e-09\n",
      "Product size  3  produced in machine  3  : 11.428571409990248\n",
      "Product size  4  produced in machine  1  : 39.99999997025554\n",
      "Product size  4  produced in machine  2  : 1.276694114168213e-08\n",
      "Product size  4  produced in machine  3  : 6.735117167079925e-09\n"
     ]
    }
   ],
   "source": [
    "for i in range(N):\n",
    "    for j in range(M):\n",
    "        print('Product size ',i+1,' produced in machine ',j+1,' :',x[i,j].value)"
   ]
  },
  {
   "cell_type": "markdown",
   "id": "41c92761-c49e-46a1-9849-742eface4a45",
   "metadata": {},
   "source": [
    "---\n",
    "# Question 2\n",
    "\n",
    "## Problem description\n",
    "\n",
    "A construction company has three jobsites that require 700, 900, and 800 tons of sand on weekly basis. The construction firm may purchase the sand from 3 different suppliers. The first two suppliers virtually have an unlimited supply and, because of other commitments, the third supplier cannot ship more than 600 tons weekly. The first supplier sign a transportation contract with a railway company, and there is no limit on the shipping capacity. On the other hand, the last two suppliers use trucks that limit the maximum shipping capacity up to 300 tons/shipment. The following table demonstrates the shipping cost from the suppliers to the jobsites of construction company (USD per ton)\n",
    "\n",
    "<table>\n",
    "<thead>\n",
    "  <tr>\n",
    "    <th></th>\n",
    "    <th>Job site 1</th>\n",
    "    <th>Job site 2</th>\n",
    "    <th>Job site 3</th>\n",
    "  </tr>\n",
    "</thead>\n",
    "<tbody>\n",
    "  <tr>\n",
    "    <td>Supplier 1</td>\n",
    "    <td><center>2</center></td>\n",
    "    <td><center>4</center></td>\n",
    "    <td><center>6</center></td>\n",
    "  </tr>\n",
    "  <tr>\n",
    "    <td>Supplier 2</td>\n",
    "    <td><center>4.5</center></td>\n",
    "    <td><center>5</center></td>\n",
    "    <td><center>5.8</center></td>\n",
    "  </tr>\n",
    "  <tr>\n",
    "    <td>Supplier 3</td>\n",
    "    <td><center>4.5</center></td>\n",
    "    <td><center>4.6</center></td>\n",
    "    <td><center>4.2</center></td>\n",
    "  </tr>\n",
    "</tbody>\n",
    "</table>\n",
    "\n",
    "Formulate the machine scheduling problem as a linear program and code it on Python/Julia."
   ]
  },
  {
   "cell_type": "markdown",
   "id": "dd0a796a-7caf-4e0a-a82d-0b74c8a8d68f",
   "metadata": {},
   "source": [
    "## Mathematical modelling\n",
    "\n",
    "### Decision variable:\n",
    "$x_{ij}$: amount of materials which jobsite $j$ buy from supplier $i$, for $i=1, \\dots ,3$ and $j=1,\\dots ,3$\n",
    "\n",
    "### Parameters:\n",
    "$c_{ij}$: cost per unit of materials which jobsite $j$ buy from supplier $i$ (USD per ton)\n",
    "\n",
    "$d_j$: demand of job site $j$ (ton)\n",
    "\n",
    "### Formulation:\n",
    "$\\min z = \\sum_{j=1}^3 \\sum_{i=1}^3 c_{ij} x_{ij}$\n",
    "\n",
    "Subject to:\n",
    "\n",
    "$\\sum_{j=1}^3 x_{3j} \\leq 600$ (Upper limit of supply by the 3rd supplier)\n",
    "\n",
    "$\\sum_{i=1}^3 x_{ij} = d_j, ~~ \\forall j = 1,2,3$ (Demand of each jobsite $j$)\n",
    "\n",
    "$x_{ij} \\leq 300, ~~ \\forall i=2,3, ~~ \\forall j=1,2,3$ (Upper limit of supply per shipment by the 2nd and 3rd suppliers)\n",
    "\n",
    "$x_{ij} \\geq 0, ~~ \\forall i=1,2,3 ~\\text{and}~ j=1,2,3$ (Sign restriction)"
   ]
  },
  {
   "cell_type": "markdown",
   "id": "d270c31b-134a-4af0-9c5f-8fae85f51475",
   "metadata": {},
   "source": [
    "## Computational modelling"
   ]
  },
  {
   "cell_type": "code",
   "execution_count": 6,
   "id": "f54e8572-9e93-415f-a29c-00477c77bba6",
   "metadata": {},
   "outputs": [
    {
     "name": "stdout",
     "output_type": "stream",
     "text": [
      "['CPLEX', 'ECOS', 'ECOS_BB', 'GUROBI', 'MOSEK', 'OSQP', 'SCIPY', 'SCS', 'XPRESS']\n"
     ]
    }
   ],
   "source": [
    "# Check installed solvers\n",
    "import cvxpy as cvx\n",
    "print(cvx.installed_solvers())"
   ]
  },
  {
   "cell_type": "code",
   "execution_count": 7,
   "id": "76714bf7-a73f-49db-8b51-b12708e6ae8e",
   "metadata": {},
   "outputs": [],
   "source": [
    "# Import packages\n",
    "import cvxpy as cvx\n",
    "import pandas as pan\n",
    "import math\n",
    "import numpy as np"
   ]
  },
  {
   "cell_type": "code",
   "execution_count": 8,
   "id": "7010d40f-fbac-44ca-aa3b-e5da6d7e804b",
   "metadata": {},
   "outputs": [],
   "source": [
    "# Cost data:\n",
    "c = np.array([[2,   4,   6],\n",
    "              [4.5, 5,   5.8],\n",
    "              [4.5, 4.6, 4.2]])\n",
    "\n",
    "# Demand data:\n",
    "d = np.array([700, 900, 800])"
   ]
  },
  {
   "cell_type": "code",
   "execution_count": 9,
   "id": "ed7682c3-4050-4e61-8438-656a7235adaa",
   "metadata": {},
   "outputs": [
    {
     "name": "stdout",
     "output_type": "stream",
     "text": [
      "===============================================================================\n",
      "                                     CVXPY                                     \n",
      "                                     v1.2.1                                    \n",
      "===============================================================================\n",
      "(CVXPY) May 08 11:05:47 PM: Your problem has 9 variables, 7 constraints, and 0 parameters.\n",
      "(CVXPY) May 08 11:05:47 PM: It is compliant with the following grammars: DCP, DQCP\n",
      "(CVXPY) May 08 11:05:47 PM: (If you need to solve this problem multiple times, but with different data, consider using parameters.)\n",
      "(CVXPY) May 08 11:05:47 PM: CVXPY will first compile your problem; then, it will invoke a numerical solver to obtain a solution.\n",
      "-------------------------------------------------------------------------------\n",
      "                                  Compilation                                  \n",
      "-------------------------------------------------------------------------------\n",
      "(CVXPY) May 08 11:05:47 PM: Compiling problem (target solver=ECOS_BB).\n",
      "(CVXPY) May 08 11:05:47 PM: Reduction chain: Dcp2Cone -> CvxAttr2Constr -> ConeMatrixStuffing -> ECOS_BB\n",
      "(CVXPY) May 08 11:05:47 PM: Applying reduction Dcp2Cone\n",
      "(CVXPY) May 08 11:05:47 PM: Applying reduction CvxAttr2Constr\n",
      "(CVXPY) May 08 11:05:47 PM: Applying reduction ConeMatrixStuffing\n",
      "(CVXPY) May 08 11:05:47 PM: Applying reduction ECOS_BB\n",
      "(CVXPY) May 08 11:05:47 PM: Finished problem compilation (took 1.599e-02 seconds).\n",
      "-------------------------------------------------------------------------------\n",
      "                                Numerical solver                               \n",
      "-------------------------------------------------------------------------------\n",
      "(CVXPY) May 08 11:05:47 PM: Invoking solver ECOS_BB  to obtain a solution.\n",
      "-------------------------------------------------------------------------------\n",
      "                                    Summary                                    \n",
      "-------------------------------------------------------------------------------\n",
      "(CVXPY) May 08 11:05:47 PM: Problem status: optimal\n",
      "(CVXPY) May 08 11:05:47 PM: Optimal value: 9.640e+03\n",
      "(CVXPY) May 08 11:05:47 PM: Compilation took 1.599e-02 seconds\n",
      "(CVXPY) May 08 11:05:47 PM: Solver (including time spent in interface) took 0.000e+00 seconds\n"
     ]
    },
    {
     "data": {
      "text/plain": [
       "9640.00000253433"
      ]
     },
     "execution_count": 9,
     "metadata": {},
     "output_type": "execute_result"
    }
   ],
   "source": [
    "# Python indexing starts from 0\n",
    "# Set declaration:\n",
    "N = 3 # Number of suppliers\n",
    "M = 3 # Number of jobsites\n",
    "\n",
    "# Constraints:\n",
    "constr = []\n",
    "\n",
    "# Variables:\n",
    "x = cvx.Variable((N, M), nonneg=True)\n",
    "\n",
    "# Constraints:\n",
    "## Upper limit of supply by the 3rd supplier\n",
    "constr += [sum(x[2,j] for j in range(M)) <= 600]\n",
    "\n",
    "## Demand satisfaction at each jobsite\n",
    "for j in range(M):\n",
    "    constr += [sum(x[i,j] for i in range(N)) == d[j]]\n",
    "    \n",
    "## Upper limit of supply per shipment by the 2nd and 3rd suppliers\n",
    "for i in range(N):\n",
    "    for j in range(1,2):\n",
    "        constr += [x[i,j] <= 300]\n",
    "    \n",
    "# Objective function:\n",
    "objf = sum(sum(c[i,j]*x[i,j] for i in range(N)) for j in range(M))\n",
    "\n",
    "# Call the solver:\n",
    "prob = cvx.Problem(cvx.Minimize(objf), constr)\n",
    "prob.solve(solver = 'ECOS_BB', verbose=True, warm_start=True)"
   ]
  },
  {
   "cell_type": "markdown",
   "id": "b3aca9b5-0722-472c-a317-ebd7f47fe28b",
   "metadata": {},
   "source": [
    "---\n",
    "# Question 3\n",
    "\n",
    "## Problem description\n",
    "\n",
    "A coffee shop is open Monday-Friday from 9am to 5pm. From past experience, the coffee shop knows that it needs the number of staffs shown in the table below.\n",
    "\n",
    "<table>\n",
    "<thead>\n",
    "  <tr>\n",
    "    <th>Time Period</th>\n",
    "    <th>Number of staffs<br>Required</th>\n",
    "    <th>Time Period</th>\n",
    "    <th>Number of staffs<br>Required</th>\n",
    "  </tr>\n",
    "</thead>\n",
    "<tbody>\n",
    "  <tr>\n",
    "    <td><center>09:00 - 10:00</center></td>\n",
    "    <td><center>4</center></td>\n",
    "    <td><center>13:00 - 14:00</center></td>\n",
    "    <td><center>5</center></td>\n",
    "  </tr>\n",
    "  <tr>\n",
    "    <td><center>10:00 - 11:00</center></td>\n",
    "    <td><center>3</center></td>\n",
    "    <td><center>14:00 - 15:00</center></td>\n",
    "    <td><center>6</center></td>\n",
    "  </tr>\n",
    "  <tr>\n",
    "    <td><center>11:00 - 12:00</center></td>\n",
    "    <td><center>4</center></td>\n",
    "    <td><center>15:00 - 16:00</center></td>\n",
    "    <td><center>8</center></td>\n",
    "  </tr>\n",
    "  <tr>\n",
    "    <td><center>12:00 - 13:00</center></td>\n",
    "    <td><center>6</center></td>\n",
    "    <td><center>16:00 - 17:00</center></td>\n",
    "    <td><center>10</center></td>\n",
    "  </tr>\n",
    "</tbody>\n",
    "</table>\n",
    "\n",
    "\n",
    "The coffee shop hires two types of staffs: full-time and part-time. \n",
    "Full-time staffs work from 9:00 to 17:00 five days a week, including 1 hour off for lunch. \n",
    "The coffee shop determines the lunch hour of each full-time staff, but each staff must go for lunch either 12:00–13:00 or 13:00–14:00. \n",
    "Full-time staffs are paid 15 USD/hour (including lunch hour). \n",
    "The coffee shop may also hire part-time staffs. \n",
    "Each parttime staff must work exactly 4 consecutive hours each day. \n",
    "A part-time staff is paid 10 USD/hour. \n",
    "To maintain adequate quality of service, the coffee shop has decided that at most 5 part-time staffs can be hired. \n",
    "Formulate an Linear Program and code it on Python/Julia to meet the staff requirements at minimum cost. "
   ]
  },
  {
   "cell_type": "markdown",
   "id": "57bb812c-929c-43c1-8ead-1af683c7de27",
   "metadata": {},
   "source": [
    "## Mathematical modelling\n",
    "\n",
    "### Summary:\n",
    "Full-time staffs: 9:00 – 17:00 (either 12:00 - 13:00 or 13:00 - 14:00 for lunch), 8 USD/hour\n",
    "\n",
    "Part-time staffs: 4 hours/day, no more than 5 staffs can be hired, 5 USD/hour\n",
    "\n",
    "### Decision variable:\n",
    "$x_1$: number of full-time staffs taking 12PM-1PM time slot for lunch break\n",
    "\n",
    "$x_2$: number of full-time staffs taking 1PM-2PM time slot for lunch break\n",
    "\n",
    "$y_1$: number of part-time staffs working between 09:00 – 13:00\n",
    "\n",
    "$y_2$: number of part-time staffs working between 10:00 – 14:00\n",
    "\n",
    "$y_3$: number of part-time staffs working between 11:00 – 15:00\n",
    "\n",
    "$y_4$: number of part-time staffs working between 12:00 – 16:00\n",
    "\n",
    "$y_5$: number of part-time staffs working between 13:00 – 17:00\n",
    "\n",
    "### Parameters:\n",
    "\n",
    "$c_1$ is the Pay rate of full-time staffs: 15×8=120 USD/day\n",
    "\n",
    "$c_2$ is the Pay rate of part-time staffs: 10x4=40 USD/day\n",
    "\n",
    "### Formulation:\n",
    "$\\min z = 120(x_1 + x_2) + 40(y_1 + y_2 + y_3 + y_4)$\n",
    "\n",
    "Subject to:\n",
    "\n",
    "$x_1 + x_2 + y_1 \\geq 4$ (Time period: 09:00 – 10:00)\n",
    "\n",
    "$x_1 + x_2 + y_1 + y_2 \\geq 3$ (Time period: 10:00 – 11:00)\n",
    "\n",
    "$x_1 + x_2 + y_1 + y_2 + y_3 \\geq 4$ (Time period: 11:00 – 12:00)\n",
    "\n",
    "$x_1 + y_1 + y_2 + y_3 + y_4 \\geq 6$ (Time period: 12:00 – 13:00)\n",
    "\n",
    "$x_2 + y_2 + y_3 + y_4 + y_5 \\geq 5$ (Time period: 13:00 – 14:00)\n",
    "\n",
    "$x_1 + x_2 + y_3 + y_4 + y_5 \\geq 6$ (Time period: 14:00 – 15:00)\n",
    "\n",
    "$x_1 + x_2 + y_4 + y_5 \\geq 8$ (Time period: 15:00 – 16:00)\n",
    "\n",
    "$x_1 + x_2 + y_5 \\geq 10$ (Time period: 16:00 – 17:00)\n",
    "\n",
    "$y_1 + y_2 + y_3 + y_4 + y_5 \\leq 5$ (Limited headcount of part-time staffs)\n",
    "\n",
    "$x_1, x_2, y_1, y_2, y_3, y_4, y_5 \\geq 0$ (Sign constraint)"
   ]
  },
  {
   "cell_type": "markdown",
   "id": "ba0c0f0e-c274-47af-ac67-805f5944b532",
   "metadata": {},
   "source": [
    "## Computational modelling"
   ]
  },
  {
   "cell_type": "code",
   "execution_count": 10,
   "id": "85459d84-11d6-4048-ac1f-db7be199a827",
   "metadata": {},
   "outputs": [
    {
     "name": "stdout",
     "output_type": "stream",
     "text": [
      "['CPLEX', 'ECOS', 'ECOS_BB', 'GUROBI', 'MOSEK', 'OSQP', 'SCIPY', 'SCS', 'XPRESS']\n"
     ]
    }
   ],
   "source": [
    "# Check installed solvers\n",
    "import cvxpy as cvx\n",
    "print(cvx.installed_solvers())"
   ]
  },
  {
   "cell_type": "code",
   "execution_count": 11,
   "id": "30137c96-a153-4bba-aa8c-4592dcc9ea75",
   "metadata": {},
   "outputs": [],
   "source": [
    "# Import packages\n",
    "import cvxpy as cvx\n",
    "import pandas as pan\n",
    "import math\n",
    "import numpy as np"
   ]
  },
  {
   "cell_type": "code",
   "execution_count": 12,
   "id": "8cd00c7a-558c-4e41-9889-a41b6ce10994",
   "metadata": {},
   "outputs": [],
   "source": [
    "# Cost data:\n",
    "c1 = 15*8 #USD/shift\n",
    "c2 = 10*4 #USD/shift"
   ]
  },
  {
   "cell_type": "code",
   "execution_count": 13,
   "id": "91346933-572e-457c-9d10-88fdeb8c562c",
   "metadata": {},
   "outputs": [
    {
     "name": "stdout",
     "output_type": "stream",
     "text": [
      "===============================================================================\n",
      "                                     CVXPY                                     \n",
      "                                     v1.2.1                                    \n",
      "===============================================================================\n",
      "(CVXPY) May 08 11:05:56 PM: Your problem has 7 variables, 9 constraints, and 0 parameters.\n",
      "(CVXPY) May 08 11:05:56 PM: It is compliant with the following grammars: DCP, DQCP\n",
      "(CVXPY) May 08 11:05:56 PM: (If you need to solve this problem multiple times, but with different data, consider using parameters.)\n",
      "(CVXPY) May 08 11:05:56 PM: CVXPY will first compile your problem; then, it will invoke a numerical solver to obtain a solution.\n",
      "-------------------------------------------------------------------------------\n",
      "                                  Compilation                                  \n",
      "-------------------------------------------------------------------------------\n",
      "(CVXPY) May 08 11:05:56 PM: Compiling problem (target solver=ECOS_BB).\n",
      "(CVXPY) May 08 11:05:56 PM: Reduction chain: Dcp2Cone -> CvxAttr2Constr -> ConeMatrixStuffing -> ECOS_BB\n",
      "(CVXPY) May 08 11:05:56 PM: Applying reduction Dcp2Cone\n",
      "(CVXPY) May 08 11:05:56 PM: Applying reduction CvxAttr2Constr\n",
      "(CVXPY) May 08 11:05:56 PM: Applying reduction ConeMatrixStuffing\n",
      "(CVXPY) May 08 11:05:56 PM: Applying reduction ECOS_BB\n",
      "(CVXPY) May 08 11:05:56 PM: Finished problem compilation (took 2.145e-02 seconds).\n",
      "-------------------------------------------------------------------------------\n",
      "                                Numerical solver                               \n",
      "-------------------------------------------------------------------------------\n",
      "(CVXPY) May 08 11:05:56 PM: Invoking solver ECOS_BB  to obtain a solution.\n",
      "-------------------------------------------------------------------------------\n",
      "                                    Summary                                    \n",
      "-------------------------------------------------------------------------------\n",
      "(CVXPY) May 08 11:05:56 PM: Problem status: optimal\n",
      "(CVXPY) May 08 11:05:56 PM: Optimal value: 8.600e+02\n",
      "(CVXPY) May 08 11:05:56 PM: Compilation took 2.145e-02 seconds\n",
      "(CVXPY) May 08 11:05:56 PM: Solver (including time spent in interface) took 1.013e-03 seconds\n"
     ]
    },
    {
     "data": {
      "text/plain": [
       "859.9999999507766"
      ]
     },
     "execution_count": 13,
     "metadata": {},
     "output_type": "execute_result"
    }
   ],
   "source": [
    "# Python indexing starts from 0\n",
    "# Set declaration:\n",
    "N = 2 # Number of shifts for full-time staffs\n",
    "M = 5 # Number of shifts for part-time staffs\n",
    "\n",
    "# Constraints:\n",
    "constr = []\n",
    "\n",
    "# Variables:\n",
    "x = cvx.Variable(N, nonneg=True)\n",
    "y = cvx.Variable(M, nonneg=True)\n",
    "\n",
    "# Constraints:\n",
    "\n",
    "## Time period: 09:00 – 10:00:\n",
    "constr += [x[0] + x[1] + y[0] >= 4]\n",
    "\n",
    "## Time period: 10:00 – 11:00:\n",
    "constr += [x[0] + x[1] + y[0] + y[1] >= 3]\n",
    "\n",
    "## Time period: 11:00 – 12:00:\n",
    "constr += [x[0] + x[1] + y[0] + y[1] + y[2] >= 4]\n",
    "\n",
    "## Time period: 12:00 – 13:00:\n",
    "constr += [x[0] + y[0] + y[1] + y[2] + y[3] >= 6]\n",
    "\n",
    "## Time period: 13:00 – 14:00:\n",
    "constr += [x[1] + y[1] + y[2] + y[3] + y[4] >= 5]\n",
    "\n",
    "## Time period: 14:00 – 15:00:\n",
    "constr += [x[0] + x[1] + y[2] + y[3] + y[4] >= 6]\n",
    "\n",
    "## Time period: 15:00 – 16:00:\n",
    "constr += [x[0] + x[1] + y[3] + y[4] >= 8]\n",
    "\n",
    "## Time period: 16:00 – 17:00:\n",
    "constr += [x[0] + x[1] + y[4] >= 10]\n",
    "\n",
    "## Limited headcount of part-time staffs\n",
    "constr += [y[0] + y[1] + y[2] + y[3] + y[4] <= 5]\n",
    "\n",
    "# Objective function:\n",
    "objf = c1*sum(x[i] for i in range(N)) + c2*sum(y[j] for j in range(M))\n",
    "\n",
    "# Call the solver:\n",
    "prob = cvx.Problem(cvx.Minimize(objf), constr)\n",
    "prob.solve(solver = 'ECOS_BB', verbose=True, warm_start=True)"
   ]
  },
  {
   "cell_type": "markdown",
   "id": "c2725f4f-d491-4126-bda0-cab2105f3335",
   "metadata": {},
   "source": [
    "## Result"
   ]
  },
  {
   "cell_type": "code",
   "execution_count": 14,
   "id": "e9dc385f-f984-4a02-a3d6-90a7215d6338",
   "metadata": {},
   "outputs": [
    {
     "name": "stdout",
     "output_type": "stream",
     "text": [
      "Time Period \t PT1 \t PT2 \t FT\n",
      "-------------------------------------\n",
      "09:00 - 10:00 \t 5.4999999993673665 \t 0.0 \t 0.0\n",
      "-------------------------------------\n",
      "10:00 - 11:00 \t 5.4999999993673665 \t 0.0 \t 0.14837092724078657\n",
      "-------------------------------------\n",
      "11:00 - 12:00 \t 5.4999999993673665 \t 0.0 \t 0.31539146028495524\n",
      "-------------------------------------\n",
      "12:00 - 13:00 \t 5.4999999993673665 \t 0.0 \t 0.5000000002150838\n",
      "-------------------------------------\n",
      "13:00 - 14:00 \t 5.4999999993673665 \t 0.0 \t 5.000000000667313\n",
      "-------------------------------------\n",
      "14:00 - 15:00 \t 5.4999999993673665 \t 0.0 \t 4.851629073426526\n",
      "-------------------------------------\n",
      "15:00 - 16:00 \t 5.4999999993673665 \t 0.0 \t 4.684608540382358\n",
      "-------------------------------------\n",
      "16:00 - 17:00 \t 5.4999999993673665 \t 0.0 \t 4.500000000452229\n"
     ]
    }
   ],
   "source": [
    "print('Time Period \\t PT1 \\t PT2 \\t FT')\n",
    "print('-------------------------------------')\n",
    "print('09:00 - 10:00 \\t', x[0].value, '\\t', x[1].value, '\\t', y[0].value)\n",
    "print('-------------------------------------')\n",
    "print('10:00 - 11:00 \\t', x[0].value, '\\t', x[1].value, '\\t', y[0].value + y[1].value)\n",
    "print('-------------------------------------')\n",
    "print('11:00 - 12:00 \\t', x[0].value, '\\t', x[1].value, '\\t', y[0].value + y[1].value + y[2].value)\n",
    "print('-------------------------------------')\n",
    "print('12:00 - 13:00 \\t', x[0].value, '\\t', x[1].value, '\\t', y[0].value + y[1].value + y[2].value + y[3].value)\n",
    "print('-------------------------------------')\n",
    "print('13:00 - 14:00 \\t', x[0].value, '\\t', x[1].value, '\\t', y[1].value + y[2].value + y[3].value + y[4].value)\n",
    "print('-------------------------------------')\n",
    "print('14:00 - 15:00 \\t', x[0].value, '\\t', x[1].value, '\\t', y[2].value + y[3].value + y[4].value)\n",
    "print('-------------------------------------')\n",
    "print('15:00 - 16:00 \\t', x[0].value, '\\t', x[1].value, '\\t', y[3].value + y[4].value)\n",
    "print('-------------------------------------')\n",
    "print('16:00 - 17:00 \\t', x[0].value, '\\t', x[1].value, '\\t', y[4].value)"
   ]
  },
  {
   "cell_type": "code",
   "execution_count": null,
   "id": "d9a988e1-592e-4440-ac02-4a119df5980b",
   "metadata": {},
   "outputs": [],
   "source": []
  }
 ],
 "metadata": {
  "kernelspec": {
   "display_name": "Python 3 (ipykernel)",
   "language": "python",
   "name": "python3"
  },
  "language_info": {
   "codemirror_mode": {
    "name": "ipython",
    "version": 3
   },
   "file_extension": ".py",
   "mimetype": "text/x-python",
   "name": "python",
   "nbconvert_exporter": "python",
   "pygments_lexer": "ipython3",
   "version": "3.9.12"
  }
 },
 "nbformat": 4,
 "nbformat_minor": 5
}
